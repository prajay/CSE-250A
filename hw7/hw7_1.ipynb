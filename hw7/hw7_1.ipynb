{
 "cells": [
  {
   "cell_type": "code",
   "execution_count": 112,
   "metadata": {
    "collapsed": true
   },
   "outputs": [],
   "source": [
    "import numpy as np\n",
    "from math import log\n",
    "import matplotlib.pyplot as plt"
   ]
  },
  {
   "cell_type": "code",
   "execution_count": 82,
   "metadata": {},
   "outputs": [],
   "source": [
    "def readdata():\n",
    "    emission_mat = []\n",
    "    for line in open(\"hw7_emissionMatrix.txt\").readlines():\n",
    "        emission_mat.append([log(float(x)) for x in line.rstrip().split(\"\\t\")])\n",
    "    \n",
    "    transition_mat = []\n",
    "    for line in open(\"hw7_transitionMatrix.txt\").readlines():\n",
    "        transition_mat.append([log(float(x)) for x in line.rstrip().split(\" \")])\n",
    "        \n",
    "    initialstates = []\n",
    "    for line in open(\"hw7_initialStateDistribution.txt\").readlines():\n",
    "        initialstates.append(float(line.rstrip()))\n",
    "        \n",
    "    observations = []\n",
    "    for line in open(\"hw7_observations.txt\").readlines():\n",
    "        observations = [int(x) for x in line.rstrip().split(\" \")]\n",
    "        \n",
    "    return (np.array(emission_mat), np.array(transition_mat), \n",
    "            np.array(initialstates), np.array(observations))\n",
    "\n",
    "emission_mat, transition_mat, initialstates, observations = readdata()"
   ]
  },
  {
   "cell_type": "code",
   "execution_count": 83,
   "metadata": {},
   "outputs": [],
   "source": [
    "def findmaxprob(columnvals, j):\n",
    "    #print(len(columnvals))\n",
    "    #print(max([x*transition_mat[i][j] for i,x in enumerate(list(columnvals))]))\n",
    "    return max([x + transition_mat[i][j] for i,x in enumerate(list(columnvals))])\n",
    "\n",
    "def runviterbi():\n",
    "    M = np.zeros(shape=(len(initialstates), len(observations)))\n",
    "    for i in range(len(observations)):\n",
    "        for j in range(len(initialstates)):\n",
    "            if i == 0:\n",
    "                #print(log(emission_mat[j][observations[i]]) + log(initialstates[j]))\n",
    "                M[j][i] = emission_mat[j][observations[i]] + log(initialstates[j])\n",
    "            else:\n",
    "                #print(i)\n",
    "                M[j][i] = emission_mat[j][observations[i]] + findmaxprob(M[:,i-1], j)\n",
    "    return M\n",
    "    \n",
    "M = runviterbi()"
   ]
  },
  {
   "cell_type": "code",
   "execution_count": 115,
   "metadata": {},
   "outputs": [],
   "source": [
    "def backtrack():\n",
    "    message = []\n",
    "    prev_state = np.argmax(M[:,239999])\n",
    "    message.append(prev_state)\n",
    "    for i in range(239998, -1, -1):\n",
    "       prev_state = np.argmax(transition_mat[:,prev_state] + M[:,i])\n",
    "       message.append(prev_state)\n",
    "    message.reverse()\n",
    "    return message\n",
    "\n",
    "message = backtrack()"
   ]
  },
  {
   "cell_type": "code",
   "execution_count": 122,
   "metadata": {},
   "outputs": [
    {
     "data": {
      "image/png": "[encoded data removed]",
      "text/plain": [
       "<matplotlib.figure.Figure at 0x7fa8705e5518>"
      ]
     },
     "metadata": {},
     "output_type": "display_data"
    }
   ],
   "source": [
    "plt.plot(message)\n",
    "plt.xlabel(\"Time\")\n",
    "plt.ylabel(\"States\")\n",
    "plt.show()"
   ]
  },
  {
   "cell_type": "code",
   "execution_count": 120,
   "metadata": {
    "collapsed": true
   },
   "outputs": [],
   "source": [
    "sentence = \"\"\n",
    "for i in range(len(message)):\n",
    "    if(message[i] != message[i-1]):\n",
    "        if int(message[i]) == 26:\n",
    "            sentence += \" \"\n",
    "        else:\n",
    "            sentence += chr(ord('a') + int(message[i]))"
   ]
  },
  {
   "cell_type": "code",
   "execution_count": 121,
   "metadata": {},
   "outputs": [
    {
     "data": {
      "text/plain": [
       "'truth is stranger than fiction'"
      ]
     },
     "execution_count": 121,
     "metadata": {},
     "output_type": "execute_result"
    }
   ],
   "source": [
    "sentence"
   ]
  }
 ],
 "metadata": {
  "kernelspec": {
   "display_name": "Python 3",
   "language": "python",
   "name": "python3"
  },
  "language_info": {
   "codemirror_mode": {
    "name": "ipython",
    "version": 3
   },
   "file_extension": ".py",
   "mimetype": "text/x-python",
   "name": "python",
   "nbconvert_exporter": "python",
   "pygments_lexer": "ipython3",
   "version": "3.6.2"
  }
 },
 "nbformat": 4,
 "nbformat_minor": 2
}

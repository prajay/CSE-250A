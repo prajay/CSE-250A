{
 "cells": [
  {
   "cell_type": "code",
   "execution_count": 1,
   "metadata": {
    "collapsed": true
   },
   "outputs": [],
   "source": [
    "import pandas as pd\n",
    "import numpy as np\n",
    "from math import log\n",
    "import matplotlib.pyplot as plt"
   ]
  },
  {
   "cell_type": "markdown",
   "metadata": {},
   "source": [
    "### 4.4 a)"
   ]
  },
  {
   "cell_type": "code",
   "execution_count": 62,
   "metadata": {},
   "outputs": [
    {
     "name": "stdout",
     "output_type": "stream",
     "text": [
      "a1, a2, a3 values:\n",
      "[[ 0.95067337]\n",
      " [ 0.01560133]\n",
      " [ 0.03189569]]\n"
     ]
    }
   ],
   "source": [
    "f = open(\"hw4_nasdaq00.txt\", 'r')\n",
    "prev1 = -1\n",
    "prev2 = -1\n",
    "prev3 = -1\n",
    "X = []\n",
    "y = []\n",
    "for line in f.readlines():\n",
    "    line = line.rstrip()\n",
    "    if prev3 != -1:\n",
    "        X.append([prev1, prev2, prev3])\n",
    "        y.append(float(line))\n",
    "    prev3 = prev2\n",
    "    prev2 = prev1\n",
    "    prev1 = float(line)\n",
    "\n",
    "X = np.matrix(X)\n",
    "y = np.matrix(y)\n",
    "y = y.reshape(-1, 1)\n",
    "theta = np.linalg.inv(X.T * X) * X.T * y\n",
    "print(\"a1, a2, a3 values:\")\n",
    "print(theta)"
   ]
  },
  {
   "cell_type": "markdown",
   "metadata": {},
   "source": [
    "### 4.4 b)"
   ]
  },
  {
   "cell_type": "code",
   "execution_count": 63,
   "metadata": {},
   "outputs": [
    {
     "name": "stdout",
     "output_type": "stream",
     "text": [
      "MSE on year 2000: 13902.4010764\n"
     ]
    }
   ],
   "source": [
    "s = np.sum(np.square(y - X.dot(theta))) / len(y)\n",
    "print(\"MSE on year 2000: \" + str(s))"
   ]
  },
  {
   "cell_type": "code",
   "execution_count": 65,
   "metadata": {},
   "outputs": [
    {
     "name": "stdout",
     "output_type": "stream",
     "text": [
      "MSE on year 2001: 2985.09792411\n"
     ]
    }
   ],
   "source": [
    "f = open(\"hw4_nasdaq01.txt\", 'r')\n",
    "prev1 = -1\n",
    "prev2 = -1\n",
    "prev3 = -1\n",
    "X = []\n",
    "y = []\n",
    "for line in f.readlines():\n",
    "    line = line.rstrip()\n",
    "    if prev3 != -1:\n",
    "        X.append([prev1, prev2, prev3])\n",
    "        y.append(float(line))\n",
    "    prev3 = prev2\n",
    "    prev2 = prev1\n",
    "    prev1 = float(line)\n",
    "    \n",
    "X = np.matrix(X)\n",
    "y = np.matrix(y)\n",
    "y = y.reshape(-1, 1)\n",
    "s = np.sum(np.square(y - X.dot(theta))) / len(y)\n",
    "print(\"MSE on year 2001: \" + str(s))"
   ]
  },
  {
   "cell_type": "markdown",
   "metadata": {},
   "source": [
    "### The MSE on the training set is too high which indicates that the model couldn't fit the data well. The fact that the MSE on the test data is lower is a coincidence which may not happen with different test data."
   ]
  }
 ],
 "metadata": {
  "kernelspec": {
   "display_name": "Python 3",
   "language": "python",
   "name": "python3"
  },
  "language_info": {
   "codemirror_mode": {
    "name": "ipython",
    "version": 3
   },
   "file_extension": ".py",
   "mimetype": "text/x-python",
   "name": "python",
   "nbconvert_exporter": "python",
   "pygments_lexer": "ipython3",
   "version": "3.6.2"
  }
 },
 "nbformat": 4,
 "nbformat_minor": 2
}

{
 "cells": [
  {
   "cell_type": "code",
   "execution_count": 10,
   "metadata": {
    "collapsed": true
   },
   "outputs": [],
   "source": [
    "import numpy as np\n",
    "from math import log"
   ]
  },
  {
   "cell_type": "code",
   "execution_count": 14,
   "metadata": {},
   "outputs": [
    {
     "name": "stdout",
     "output_type": "stream",
     "text": [
      "Iteration: 0, Mistakes: 175, Log Likelihood: -0.9580854082157914\n",
      "Iteration: 1, Mistakes: 56, Log Likelihood: -0.49591639407753635\n",
      "Iteration: 2, Mistakes: 43, Log Likelihood: -0.40822081705839114\n",
      "Iteration: 4, Mistakes: 42, Log Likelihood: -0.3646149825001877\n",
      "Iteration: 8, Mistakes: 44, Log Likelihood: -0.3475006162087826\n",
      "Iteration: 16, Mistakes: 40, Log Likelihood: -0.33461704895854844\n",
      "Iteration: 32, Mistakes: 37, Log Likelihood: -0.3225814031674978\n",
      "Iteration: 64, Mistakes: 37, Log Likelihood: -0.3148266983628557\n",
      "Iteration: 128, Mistakes: 36, Log Likelihood: -0.3111558472151897\n",
      "Iteration: 256, Mistakes: 36, Log Likelihood: -0.3101613534740759\n"
     ]
    }
   ],
   "source": [
    "def runEM(X, Y, p, iters):\n",
    "    print(\"Iteration: {}, Mistakes: {}, Log Likelihood: {}\"\n",
    "          .format(0, mistakes(X, Y, p), loglikelihood(X, Y, p)))\n",
    "    exponent = 0\n",
    "    for i in range(iters):\n",
    "        p = EM(X, Y, p)\n",
    "        if i+1 == 2**exponent:\n",
    "            exponent += 1\n",
    "            print(\"Iteration: {}, Mistakes: {}, Log Likelihood: {}\"\n",
    "          .format(i+1, mistakes(X, Y, p), loglikelihood(X, Y, p)))\n",
    "            \n",
    "        \n",
    "def noisyorcpt(Xi,p):\n",
    "    prod = 1\n",
    "    for i in range(len(p)):\n",
    "        prod *= (1 - p[i])**Xi[i]\n",
    "    return 1 - prod\n",
    "        \n",
    "def EM(X, Y, p):\n",
    "    counts = [0]*len(p)\n",
    "    newp = [0]*len(p)\n",
    "    for j in range(len(X)):\n",
    "        den = noisyorcpt(X[j], p)\n",
    "        for i in range(len(p)):\n",
    "            if X[j][i] == 1:\n",
    "                counts[i] += 1\n",
    "                newp[i] += Y[j]*X[j][i]*p[i]/den\n",
    "        \n",
    "    return [p/c for (p,c) in zip(newp,counts)]\n",
    "    \n",
    "\n",
    "def loglikelihood(X, Y, p):\n",
    "    count = 0\n",
    "    sums = 0\n",
    "    for i in range(len(X)):\n",
    "        count += 1\n",
    "        prod = noisyorcpt(X[i], p)\n",
    "        if not Y[i]:\n",
    "            sums += log(1 - prod)\n",
    "        else:\n",
    "            sums += log(prod)\n",
    "    return sums/count\n",
    "\n",
    "def mistakes(X, Y, p):\n",
    "    count = 0\n",
    "    for i in range(len(X)):\n",
    "        if Y[i] == 0 and noisyorcpt(X[i], p) >= 0.5:\n",
    "            count += 1\n",
    "        elif Y[i] == 1 and noisyorcpt(X[i], p) <= 0.5:\n",
    "            count += 1\n",
    "            \n",
    "    return count\n",
    "\n",
    "\n",
    "def readXandY():\n",
    "    yfile = open(\"hw6_spectY.txt\")\n",
    "    xfile = open(\"hw6_spectX.txt\")\n",
    "    Y = []\n",
    "    X = []\n",
    "    for line in yfile.readlines():\n",
    "        Y.append(int(line.rstrip()))\n",
    "    yfile.close()\n",
    "    for line in xfile.readlines():\n",
    "        X.append(list(map(int, line.rstrip().split(\" \"))))\n",
    "    xfile.close()\n",
    "    return (X, Y)\n",
    "\n",
    "X, Y = readXandY()\n",
    "\n",
    "runEM(X, Y, [0.05]*len(X[0]), 256)"
   ]
  }
 ],
 "metadata": {
  "kernelspec": {
   "display_name": "Python 3",
   "language": "python",
   "name": "python3"
  },
  "language_info": {
   "codemirror_mode": {
    "name": "ipython",
    "version": 3
   },
   "file_extension": ".py",
   "mimetype": "text/x-python",
   "name": "python",
   "nbconvert_exporter": "python",
   "pygments_lexer": "ipython3",
   "version": "3.6.2"
  }
 },
 "nbformat": 4,
 "nbformat_minor": 2
}

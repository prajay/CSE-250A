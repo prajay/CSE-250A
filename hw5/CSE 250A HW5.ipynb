{
 "cells": [
  {
   "cell_type": "code",
   "execution_count": 10,
   "metadata": {
    "collapsed": true
   },
   "outputs": [],
   "source": [
    "import numpy as np\n",
    "from math import exp, log\n",
    "import matplotlib.pyplot as plt"
   ]
  },
  {
   "cell_type": "code",
   "execution_count": 14,
   "metadata": {},
   "outputs": [
    {
     "name": "stdout",
     "output_type": "stream",
     "text": [
      "Log Likelihood at iteration 0: -970.4060527838883\n",
      "Log Likelihood at iteration 1: -359.1743249334887\n",
      "Log Likelihood at iteration 2: -230.26302289271584\n",
      "Log Likelihood at iteration 3: -176.00589412997087\n",
      "Log Likelihood at iteration 4: -154.5882866302609\n",
      "Log Likelihood at iteration 5: -148.27383805082928\n",
      "Log Likelihood at iteration 6: -147.36345738817062\n",
      "Log Likelihood at iteration 7: -147.3357334752881\n",
      "Log Likelihood at iteration 8: -147.3356997796502\n",
      "Log Likelihood at iteration 9: -147.33569977959525\n"
     ]
    },
    {
     "data": {
      "image/png": "[encoded data removed]",
      "text/plain": [
       "<matplotlib.figure.Figure at 0x7fe06736ad30>"
      ]
     },
     "metadata": {},
     "output_type": "display_data"
    },
    {
     "name": "stdout",
     "output_type": "stream",
     "text": [
      "\n",
      "Weight Matrix:\n",
      "[[-1.57382735 -1.48851724 -2.24676063 -0.97299764 -1.8894647  -0.48977501\n",
      "   0.88489007  2.06110873]\n",
      " [ 1.07332845 -0.06623494  1.03466118 -0.67031334 -0.15310989  0.64146356\n",
      "  -1.59249615  0.03143302]\n",
      " [ 2.96985915  1.30120163  1.0107918   0.34100829  0.25683116 -2.28764686\n",
      "  -3.30166042 -3.88545228]\n",
      " [ 2.45742257  0.75477804  1.81450035 -0.58730787 -1.76782103 -0.55973792\n",
      "   0.47931207 -0.30565182]\n",
      " [ 0.17995796  0.22623992  0.28440877 -1.04130173 -0.07994932 -0.06781282\n",
      "  -0.79794465 -0.14243648]\n",
      " [ 1.36851098 -0.98698974  0.49606935  0.81489463  0.40076174 -0.81301073\n",
      "   0.01353448 -1.92933827]\n",
      " [ 0.62676734 -0.36316349  1.19820869  0.92584326 -0.14690891 -0.18828491\n",
      "   0.62775884 -1.77306152]\n",
      " [ 0.41111955  0.37792257 -0.97712224  5.58457667  0.3413834   0.42844534\n",
      "   0.02970822 -0.66521606]]\n"
     ]
    }
   ],
   "source": [
    "def parseData(fname):\n",
    "    f = open(fname)\n",
    "    for line in f.readlines():\n",
    "        yield [float(d) for d in line.rstrip().split()]\n",
    "    \n",
    "X3 = [d for d in parseData(\"hw5_train3.txt\")]\n",
    "y3 = [0 for d in parseData(\"hw5_train3.txt\")]\n",
    "\n",
    "X5 = [d for d in parseData(\"hw5_train5.txt\")]\n",
    "y5 = [1 for d in parseData(\"hw5_train5.txt\")]\n",
    "\n",
    "X = X3 + X5\n",
    "y = y3 + y5\n",
    "\n",
    "def sigmoid(x):\n",
    "    return 1.0 / (1 + exp(-x))\n",
    "\n",
    "def loglikelihood(w_vec, X, y):\n",
    "    ll = 0\n",
    "    for i in range(len(X)):\n",
    "        dotp = np.dot(w_vec, X[i])\n",
    "        log_sig = log(sigmoid(dotp))\n",
    "        log_neg_sig = log(sigmoid(-1*dotp))\n",
    "        ll += y[i] * log_sig + (1 - y[i]) * log_neg_sig\n",
    "    return ll\n",
    "\n",
    "def fprime(w_vec, X, y):\n",
    "    dl = [0] * len(w_vec)\n",
    "    for i in range(len(X)):\n",
    "        sig = sigmoid(np.dot(w_vec, X[i]))\n",
    "        for j in range(len(w_vec)):\n",
    "            dl[j] += (y[i] - sigmoid(np.dot(w_vec, X[i])))*X[i][j]\n",
    "            \n",
    "    return dl\n",
    "    \n",
    "    \n",
    "def fprimeprime(w_vec, X):\n",
    "    hess = [[0 for d2 in w_vec] for d in w_vec]\n",
    "    for i in range(len(X)):\n",
    "        dotp = np.dot(w_vec, X[i])\n",
    "        sigsquare = sigmoid(dotp)**2\n",
    "        for j in range(len(w_vec)):\n",
    "            for k in range(len(w_vec)):\n",
    "                hess[j][k] -= (sigsquare * exp(-1 * dotp) * \n",
    "                               X[i][j] * X[i][k])\n",
    "    \n",
    "    return hess\n",
    "\n",
    "def newtonsmethod(X, y):\n",
    "    likelihood_arr = []\n",
    "    w_vec = [0] * len(X[0])\n",
    "    fp = np.array(fprime(w_vec, X, y))\n",
    "    fpp = np.array(fprimeprime(w_vec, X))\n",
    "    prevll = 0\n",
    "    curll = loglikelihood(w_vec, X, y)\n",
    "    iters = 0\n",
    "    while abs(prevll - curll) > 0.0000001:\n",
    "        print(\"Log Likelihood at iteration {}: {}\".format(iters, curll))\n",
    "        likelihood_arr.append(curll)\n",
    "        delt = np.dot(np.linalg.inv(fpp), fp)\n",
    "        w_vec = [w_vec[i] - delt[i] for i in range(int(len(w_vec)))]\n",
    "        fp = np.array(fprime(w_vec, X, y))\n",
    "        fpp = np.array(fprimeprime(w_vec, X))\n",
    "        prevll = curll\n",
    "        curll = loglikelihood(w_vec, X, y)\n",
    "        iters += 1\n",
    "\n",
    "    print(\"Log Likelihood at iteration {}: {}\".format(iters, curll))\n",
    "    likelihood_arr.append(curll)\n",
    "    plt.plot([i for i in range(len(likelihood_arr))], \n",
    "             likelihood_arr, 'bo', linestyle='-')\n",
    "    plt.xlabel(\"Iteration number\")\n",
    "    plt.ylabel(\"Log Likelihood\")\n",
    "    plt.show()\n",
    "    return w_vec\n",
    "                   \n",
    "    \n",
    "w = newtonsmethod(X,y)\n",
    "print(\"\\nWeight Matrix:\")\n",
    "print(np.reshape(w, (8, 8)))\n",
    "\n",
    "X3_test = [d for d in parseData(\"hw5_test3.txt\")]\n",
    "y3_test = [0 for d in parseData(\"hw5_test3.txt\")]\n",
    "\n",
    "X5_test = [d for d in parseData(\"hw5_test5.txt\")]\n",
    "y5_test = [1 for d in parseData(\"hw5_test5.txt\")]\n",
    "\n",
    "X_test = X3_test + X5_test\n",
    "y_test = y3_test + y5_test\n"
   ]
  },
  {
   "cell_type": "code",
   "execution_count": 12,
   "metadata": {},
   "outputs": [
    {
     "name": "stdout",
     "output_type": "stream",
     "text": [
      "Error rate on training set: 0.03571428571428571\n",
      "Error rate on test set: 0.0525\n"
     ]
    }
   ],
   "source": [
    "def accuracy(w_vec, X, y):\n",
    "    predictions = [sigmoid(np.dot(x,w_vec)) > 0.5 for x in X]\n",
    "    incorrect = [(a!=b) for (a,b) in zip(predictions,y)]\n",
    "    err = sum(incorrect) * 1.0 / len(incorrect)\n",
    "    return err\n",
    "\n",
    "print(\"Error rate on training set: {}\".format(accuracy(w, X, y)))\n",
    "print(\"Error rate on test set: {}\".format(accuracy(w, X_test, y_test)))"
   ]
  }
 ],
 "metadata": {
  "kernelspec": {
   "display_name": "Python 3",
   "language": "python",
   "name": "python3"
  },
  "language_info": {
   "codemirror_mode": {
    "name": "ipython",
    "version": 3
   },
   "file_extension": ".py",
   "mimetype": "text/x-python",
   "name": "python",
   "nbconvert_exporter": "python",
   "pygments_lexer": "ipython3",
   "version": "3.6.2"
  }
 },
 "nbformat": 4,
 "nbformat_minor": 2
}

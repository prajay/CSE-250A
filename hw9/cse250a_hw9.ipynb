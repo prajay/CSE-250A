{
 "cells": [
  {
   "cell_type": "code",
   "execution_count": 21,
   "metadata": {
    "collapsed": true
   },
   "outputs": [],
   "source": [
    "import numpy as np\n",
    "import pprint as pp"
   ]
  },
  {
   "cell_type": "code",
   "execution_count": 22,
   "metadata": {
    "collapsed": true
   },
   "outputs": [],
   "source": [
    "def readRewards():\n",
    "    R = []\n",
    "    for line in open(\"hw9_rewards.txt\").readlines():\n",
    "        R.append(int(line.rstrip()))\n",
    "    return np.array(R)\n",
    "    \n",
    "def readTransitionMat(fname):\n",
    "    P_a = np.zeros((81,81))\n",
    "    for line in open(fname).readlines():\n",
    "        row, col, prob = line.rstrip().split()\n",
    "        row = [(int(row) - 1)]\n",
    "        col = [int(col) - 1]\n",
    "        prob = float(prob)\n",
    "        P_a[row,col] = prob\n",
    "        \n",
    "    return P_a\n",
    "    \n",
    "R = readRewards()\n",
    "P_a1 = readTransitionMat(\"hw9_prob_a1.txt\")\n",
    "P_a2 = readTransitionMat(\"hw9_prob_a2.txt\")\n",
    "P_a3 = readTransitionMat(\"hw9_prob_a3.txt\")\n",
    "P_a4 = readTransitionMat(\"hw9_prob_a4.txt\")\n",
    "transition_probs = [P_a1, P_a2, P_a3, P_a4]"
   ]
  },
  {
   "cell_type": "code",
   "execution_count": 23,
   "metadata": {
    "collapsed": true
   },
   "outputs": [],
   "source": [
    "policy = np.random.randint(4, size=81) # initial policy\n",
    "gamma = 0.9925\n",
    "def policy_eval(policy, gamma, transition_probs, R):\n",
    "    P_policy = []\n",
    "    for s1 in range(81):\n",
    "        temp_arr = []\n",
    "        action = policy[s1]\n",
    "        for s2 in range(81):\n",
    "            temp_arr.append(transition_probs[action][s1, s2])\n",
    "        P_policy.append(temp_arr)\n",
    "    P_policy = np.array(P_policy)\n",
    "    return np.dot(np.linalg.inv(np.identity(81) - (gamma * P_policy)),R)\n",
    "\n",
    "def policy_improv(policy, gamma, transition_probs, R):\n",
    "    V = policy_eval(policy, gamma, transition_probs, R)\n",
    "    new_policy = []\n",
    "    for s1 in range(81):\n",
    "        maxval = 0\n",
    "        bestaction = 0\n",
    "        for action in range(4):\n",
    "            s = 0\n",
    "            for s2 in range(81):\n",
    "                s += transition_probs[action][s1, s2]*V[s2]\n",
    "            if s > maxval:\n",
    "                maxval = s\n",
    "                bestaction = action\n",
    "        new_policy.append(bestaction)\n",
    "        \n",
    "    return (V,np.array(new_policy))\n",
    "\n",
    "V, new_policy = policy_improv(policy, gamma, transition_probs, R)\n",
    "while not np.array_equal(new_policy, policy):\n",
    "    policy = new_policy\n",
    "    V, new_policy = policy_improv(policy, gamma, transition_probs, R)"
   ]
  },
  {
   "cell_type": "code",
   "execution_count": 24,
   "metadata": {},
   "outputs": [
    {
     "name": "stdout",
     "output_type": "stream",
     "text": [
      "[[0 0 0 0 0 0 0 0 0]\n",
      " [0 2 2 3 0 0 3 0 0]\n",
      " [2 1 0 3 0 0 3 0 0]\n",
      " [0 0 3 0 0 0 3 0 0]\n",
      " [0 0 3 0 0 0 3 0 0]\n",
      " [0 3 0 0 0 0 3 0 0]\n",
      " [0 3 0 2 2 2 2 2 0]\n",
      " [0 2 2 1 0 2 2 1 0]\n",
      " [0 0 0 0 0 0 0 0 0]]\n"
     ]
    }
   ],
   "source": [
    "new_policy = new_policy.reshape(9,9).T\n",
    "print(new_policy)"
   ]
  },
  {
   "cell_type": "code",
   "execution_count": 25,
   "metadata": {},
   "outputs": [
    {
     "name": "stdout",
     "output_type": "stream",
     "text": [
      "State: 1, Value: 0.0\n",
      "State: 2, Value: 0.0\n",
      "State: 3, Value: 100.70098072748917\n",
      "State: 4, Value: 0.0\n",
      "State: 5, Value: 0.0\n",
      "State: 6, Value: 0.0\n",
      "State: 7, Value: 0.0\n",
      "State: 8, Value: 0.0\n",
      "State: 9, Value: 0.0\n",
      "State: 10, Value: 0.0\n",
      "State: 11, Value: 102.37526440102097\n",
      "State: 12, Value: 101.52364514898133\n",
      "State: 13, Value: 0.0\n",
      "State: 14, Value: 0.0\n",
      "State: 15, Value: 109.48993453646317\n",
      "State: 16, Value: 110.40903296181372\n",
      "State: 17, Value: 111.3358466339685\n",
      "State: 18, Value: 0.0\n",
      "State: 19, Value: 0.0\n",
      "State: 20, Value: 103.23462341601055\n",
      "State: 21, Value: 0.0\n",
      "State: 22, Value: 106.77826755022942\n",
      "State: 23, Value: 107.67462642880363\n",
      "State: 24, Value: 108.57848711681848\n",
      "State: 25, Value: 0.0\n",
      "State: 26, Value: 112.27044031794435\n",
      "State: 27, Value: 0.0\n",
      "State: 28, Value: 0.0\n",
      "State: 29, Value: 104.10121204279739\n",
      "State: 30, Value: 104.97507555494727\n",
      "State: 31, Value: 105.88853590955107\n",
      "State: 32, Value: 0.0\n",
      "State: 33, Value: 0.0\n",
      "State: 34, Value: 114.16322950263668\n",
      "State: 35, Value: 113.21287932200805\n",
      "State: 36, Value: 0.0\n",
      "State: 37, Value: 0.0\n",
      "State: 38, Value: 0.0\n",
      "State: 39, Value: 103.78140737394398\n",
      "State: 40, Value: 0.0\n",
      "State: 41, Value: 0.0\n",
      "State: 42, Value: 0.0\n",
      "State: 43, Value: 115.12155726913038\n",
      "State: 44, Value: 0.0\n",
      "State: 45, Value: 0.0\n",
      "State: 46, Value: 0.0\n",
      "State: 47, Value: -133.33333333333468\n",
      "State: 48, Value: 90.98537960093472\n",
      "State: 49, Value: -133.33333333333312\n",
      "State: 50, Value: 0.0\n",
      "State: 51, Value: -133.33333333333417\n",
      "State: 52, Value: 116.08792958825308\n",
      "State: 53, Value: 122.02491241481374\n",
      "State: 54, Value: 0.0\n",
      "State: 55, Value: 0.0\n",
      "State: 56, Value: 81.39949278128725\n",
      "State: 57, Value: 93.67165583314672\n",
      "State: 58, Value: 95.17285726464932\n",
      "State: 59, Value: 108.3426193434064\n",
      "State: 60, Value: 109.58365071834515\n",
      "State: 61, Value: 123.6430702076967\n",
      "State: 62, Value: 123.18223909953849\n",
      "State: 63, Value: 0.0\n",
      "State: 64, Value: 0.0\n",
      "State: 65, Value: -133.33333333333343\n",
      "State: 66, Value: 81.39949278128725\n",
      "State: 67, Value: -133.3333333333342\n",
      "State: 68, Value: 0.0\n",
      "State: 69, Value: -133.3333333333331\n",
      "State: 70, Value: 125.24978943555794\n",
      "State: 71, Value: 124.20738563339656\n",
      "State: 72, Value: 0.0\n",
      "State: 73, Value: 0.0\n",
      "State: 74, Value: 0.0\n",
      "State: 75, Value: 0.0\n",
      "State: 76, Value: 0.0\n",
      "State: 77, Value: 0.0\n",
      "State: 78, Value: 0.0\n",
      "State: 79, Value: 133.3333333333342\n",
      "State: 80, Value: 0.0\n",
      "State: 81, Value: 0.0\n"
     ]
    }
   ],
   "source": [
    "new_policy = new_policy.tolist()\n",
    "for i,v in enumerate(V):\n",
    "    print(\"State: {}, Value: {}\".format(i+1,v))"
   ]
  },
  {
   "cell_type": "code",
   "execution_count": 26,
   "metadata": {},
   "outputs": [
    {
     "name": "stdout",
     "output_type": "stream",
     "text": [
      "['<<<<<<<<<',\n",
      " '<>>v<<v<<',\n",
      " '>^<v<<v<<',\n",
      " '<<v<<<v<<',\n",
      " '<<v<<<v<<',\n",
      " '<v<<<<v<<',\n",
      " '<v<>>>>><',\n",
      " '<>>^<>>^<',\n",
      " '<<<<<<<<<']\n"
     ]
    }
   ],
   "source": [
    "int_to_direction = {0:'<', 1:'^', 2:'>', 3:'v'}\n",
    "\n",
    "directions = [[int_to_direction[val] for val in row] for row in new_policy]\n",
    "pp.pprint([\"\".join(row) for row in directions])"
   ]
  },
  {
   "cell_type": "code",
   "execution_count": 27,
   "metadata": {},
   "outputs": [],
   "source": [
    "V = np.zeros(81)\n",
    "\n",
    "def val_iteration(V, transition_probs, gamma, R):\n",
    "    new_V = np.zeros(81)\n",
    "    policy = np.zeros(81)\n",
    "    for s1 in range(81):\n",
    "        maxval = -1*float(\"inf\")\n",
    "        for action in range(4):\n",
    "            s = 0\n",
    "            for s2 in range(81):\n",
    "                #print(\"{} {}, {}\".format(action,s1, s2))\n",
    "                s += transition_probs[action][s1, s2]*V[s2]\n",
    "            if s > maxval:\n",
    "                maxval = s\n",
    "                policy[s1] = action\n",
    "                \n",
    "        new_V[s1] = (R[s1] + gamma*maxval)\n",
    "    \n",
    "    #print(\"Size of new_V: {}\".format(new_V.shape))\n",
    "    return (new_V, policy)\n",
    "        \n",
    "new_V, new_policy = val_iteration(V, transition_probs, gamma, R)\n",
    "while not np.array_equal(V, new_V):\n",
    "    V = new_V\n",
    "    new_V, new_policy = val_iteration(V, transition_probs, gamma, R)\n"
   ]
  },
  {
   "cell_type": "code",
   "execution_count": 28,
   "metadata": {},
   "outputs": [
    {
     "name": "stdout",
     "output_type": "stream",
     "text": [
      "State: 1, Value: 0.0\n",
      "State: 2, Value: 0.0\n",
      "State: 3, Value: 100.70098072748767\n",
      "State: 4, Value: 0.0\n",
      "State: 5, Value: 0.0\n",
      "State: 6, Value: 0.0\n",
      "State: 7, Value: 0.0\n",
      "State: 8, Value: 0.0\n",
      "State: 9, Value: 0.0\n",
      "State: 10, Value: 0.0\n",
      "State: 11, Value: 102.37526440101946\n",
      "State: 12, Value: 101.52364514897984\n",
      "State: 13, Value: 0.0\n",
      "State: 14, Value: 0.0\n",
      "State: 15, Value: 109.48993453646155\n",
      "State: 16, Value: 110.40903296181209\n",
      "State: 17, Value: 111.33584663396687\n",
      "State: 18, Value: 0.0\n",
      "State: 19, Value: 0.0\n",
      "State: 20, Value: 103.23462341600904\n",
      "State: 21, Value: 0.0\n",
      "State: 22, Value: 106.77826755022788\n",
      "State: 23, Value: 107.67462642880209\n",
      "State: 24, Value: 108.57848711681693\n",
      "State: 25, Value: 0.0\n",
      "State: 26, Value: 112.27044031794271\n",
      "State: 27, Value: 0.0\n",
      "State: 28, Value: 0.0\n",
      "State: 29, Value: 104.10121204279588\n",
      "State: 30, Value: 104.97507555494578\n",
      "State: 31, Value: 105.88853590954957\n",
      "State: 32, Value: 0.0\n",
      "State: 33, Value: 0.0\n",
      "State: 34, Value: 114.16322950263502\n",
      "State: 35, Value: 113.21287932200639\n",
      "State: 36, Value: 0.0\n",
      "State: 37, Value: 0.0\n",
      "State: 38, Value: 0.0\n",
      "State: 39, Value: 103.78140737394247\n",
      "State: 40, Value: 0.0\n",
      "State: 41, Value: 0.0\n",
      "State: 42, Value: 0.0\n",
      "State: 43, Value: 115.1215572691287\n",
      "State: 44, Value: 0.0\n",
      "State: 45, Value: 0.0\n",
      "State: 46, Value: 0.0\n",
      "State: 47, Value: -133.33333333333232\n",
      "State: 48, Value: 90.98537960093337\n",
      "State: 49, Value: -133.33333333333232\n",
      "State: 50, Value: 0.0\n",
      "State: 51, Value: -133.33333333333232\n",
      "State: 52, Value: 116.0879295882514\n",
      "State: 53, Value: 122.02491241481192\n",
      "State: 54, Value: 0.0\n",
      "State: 55, Value: 0.0\n",
      "State: 56, Value: 81.39949278128597\n",
      "State: 57, Value: 93.67165583314528\n",
      "State: 58, Value: 95.17285726464789\n",
      "State: 59, Value: 108.34261934340482\n",
      "State: 60, Value: 109.58365071834355\n",
      "State: 61, Value: 123.64307020769492\n",
      "State: 62, Value: 123.18223909953667\n",
      "State: 63, Value: 0.0\n",
      "State: 64, Value: 0.0\n",
      "State: 65, Value: -133.33333333333232\n",
      "State: 66, Value: 81.39949278128597\n",
      "State: 67, Value: -133.33333333333232\n",
      "State: 68, Value: 0.0\n",
      "State: 69, Value: -133.33333333333232\n",
      "State: 70, Value: 125.24978943555615\n",
      "State: 71, Value: 124.20738563339475\n",
      "State: 72, Value: 0.0\n",
      "State: 73, Value: 0.0\n",
      "State: 74, Value: 0.0\n",
      "State: 75, Value: 0.0\n",
      "State: 76, Value: 0.0\n",
      "State: 77, Value: 0.0\n",
      "State: 78, Value: 0.0\n",
      "State: 79, Value: 133.33333333333232\n",
      "State: 80, Value: 0.0\n",
      "State: 81, Value: 0.0\n"
     ]
    }
   ],
   "source": [
    "for i,v in np.ndenumerate(new_V):\n",
    "    print(\"State: {}, Value: {}\".format(i[0]+1,v))"
   ]
  },
  {
   "cell_type": "markdown",
   "metadata": {},
   "source": [
    "### As we can see from above, the values from policy iteration match the values from value iteration"
   ]
  },
  {
   "cell_type": "code",
   "execution_count": 33,
   "metadata": {},
   "outputs": [
    {
     "name": "stdout",
     "output_type": "stream",
     "text": [
      "[[ 0.  0.  0.  0.  0.  0.  0.  0.  0.]\n",
      " [ 0.  2.  2.  3.  0.  0.  3.  0.  0.]\n",
      " [ 2.  1.  0.  3.  0.  0.  3.  0.  0.]\n",
      " [ 0.  0.  3.  0.  0.  0.  3.  0.  0.]\n",
      " [ 0.  0.  3.  0.  0.  0.  3.  0.  0.]\n",
      " [ 0.  3.  0.  0.  0.  0.  3.  0.  0.]\n",
      " [ 0.  3.  0.  2.  2.  2.  2.  2.  0.]\n",
      " [ 0.  2.  2.  1.  0.  2.  2.  1.  0.]\n",
      " [ 0.  0.  0.  0.  0.  0.  0.  0.  0.]]\n"
     ]
    }
   ],
   "source": [
    "print(np.array(new_policy).reshape(9,9).T)"
   ]
  },
  {
   "cell_type": "code",
   "execution_count": 34,
   "metadata": {},
   "outputs": [
    {
     "name": "stdout",
     "output_type": "stream",
     "text": [
      "['<<<<<<<<<',\n",
      " '<>>v<<v<<',\n",
      " '>^<v<<v<<',\n",
      " '<<v<<<v<<',\n",
      " '<<v<<<v<<',\n",
      " '<v<<<<v<<',\n",
      " '<v<>>>>><',\n",
      " '<>>^<>>^<',\n",
      " '<<<<<<<<<']\n"
     ]
    }
   ],
   "source": [
    "int_to_direction = {0.0:'<', 1.0:'^', 2.0:'>', 3.0:'v'}\n",
    "\n",
    "new_policy = np.array(new_policy).reshape(9,9).T.tolist()\n",
    "directions = [[int_to_direction[val] for val in row] for row in new_policy]\n",
    "pp.pprint([\"\".join(row) for row in directions])"
   ]
  },
  {
   "cell_type": "code",
   "execution_count": null,
   "metadata": {
    "collapsed": true
   },
   "outputs": [],
   "source": []
  }
 ],
 "metadata": {
  "kernelspec": {
   "display_name": "Python 3",
   "language": "python",
   "name": "python3"
  },
  "language_info": {
   "codemirror_mode": {
    "name": "ipython",
    "version": 3
   },
   "file_extension": ".py",
   "mimetype": "text/x-python",
   "name": "python",
   "nbconvert_exporter": "python",
   "pygments_lexer": "ipython3",
   "version": "3.6.3"
  }
 },
 "nbformat": 4,
 "nbformat_minor": 2
}

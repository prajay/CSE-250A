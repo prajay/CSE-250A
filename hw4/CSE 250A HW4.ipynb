{
 "cells": [
  {
   "cell_type": "markdown",
   "metadata": {},
   "source": [
    "# 4.3"
   ]
  },
  {
   "cell_type": "code",
   "execution_count": 1,
   "metadata": {},
   "outputs": [],
   "source": [
    "import pandas as pd\n",
    "vocab = []\n",
    "with open('hw4_vocab.txt') as f:\n",
    "    for line in f.readlines():\n",
    "        vocab.append(line[:-1])"
   ]
  },
  {
   "cell_type": "code",
   "execution_count": 2,
   "metadata": {},
   "outputs": [],
   "source": [
    "unigrams = []\n",
    "with open('hw4_unigram.txt') as f:\n",
    "    for line in f.readlines():\n",
    "        unigrams.append(int(line))"
   ]
  },
  {
   "cell_type": "code",
   "execution_count": 3,
   "metadata": {},
   "outputs": [],
   "source": [
    "df = pd.DataFrame({'word': vocab, 'unigrams': unigrams}, columns=['word', 'unigrams'])"
   ]
  },
  {
   "cell_type": "code",
   "execution_count": 4,
   "metadata": {},
   "outputs": [],
   "source": [
    "df['unigram_probs'] = df['unigrams'] / df['unigrams'].sum()"
   ]
  },
  {
   "cell_type": "markdown",
   "metadata": {},
   "source": [
    "## 4.3 a)"
   ]
  },
  {
   "cell_type": "code",
   "execution_count": 5,
   "metadata": {},
   "outputs": [
    {
     "data": {
      "text/html": [
       "<div>\n",
       "<table border=\"1\" class=\"dataframe\">\n",
       "  <thead>\n",
       "    <tr style=\"text-align: right;\">\n",
       "      <th></th>\n",
       "      <th>word</th>\n",
       "      <th>unigrams</th>\n",
       "      <th>unigram_probs</th>\n",
       "    </tr>\n",
       "  </thead>\n",
       "  <tbody>\n",
       "    <tr>\n",
       "      <th>53</th>\n",
       "      <td>MILLION</td>\n",
       "      <td>169479</td>\n",
       "      <td>0.002073</td>\n",
       "    </tr>\n",
       "    <tr>\n",
       "      <th>68</th>\n",
       "      <td>MORE</td>\n",
       "      <td>139728</td>\n",
       "      <td>0.001709</td>\n",
       "    </tr>\n",
       "    <tr>\n",
       "      <th>76</th>\n",
       "      <td>MR.</td>\n",
       "      <td>117873</td>\n",
       "      <td>0.001442</td>\n",
       "    </tr>\n",
       "    <tr>\n",
       "      <th>120</th>\n",
       "      <td>MOST</td>\n",
       "      <td>64424</td>\n",
       "      <td>0.000788</td>\n",
       "    </tr>\n",
       "    <tr>\n",
       "      <th>121</th>\n",
       "      <td>MARKET</td>\n",
       "      <td>63807</td>\n",
       "      <td>0.000780</td>\n",
       "    </tr>\n",
       "    <tr>\n",
       "      <th>125</th>\n",
       "      <td>MAY</td>\n",
       "      <td>59680</td>\n",
       "      <td>0.000730</td>\n",
       "    </tr>\n",
       "    <tr>\n",
       "      <th>129</th>\n",
       "      <td>M.</td>\n",
       "      <td>57514</td>\n",
       "      <td>0.000703</td>\n",
       "    </tr>\n",
       "    <tr>\n",
       "      <th>130</th>\n",
       "      <td>MANY</td>\n",
       "      <td>56968</td>\n",
       "      <td>0.000697</td>\n",
       "    </tr>\n",
       "    <tr>\n",
       "      <th>158</th>\n",
       "      <td>MADE</td>\n",
       "      <td>45777</td>\n",
       "      <td>0.000560</td>\n",
       "    </tr>\n",
       "    <tr>\n",
       "      <th>177</th>\n",
       "      <td>MUCH</td>\n",
       "      <td>42076</td>\n",
       "      <td>0.000515</td>\n",
       "    </tr>\n",
       "    <tr>\n",
       "      <th>179</th>\n",
       "      <td>MAKE</td>\n",
       "      <td>42065</td>\n",
       "      <td>0.000514</td>\n",
       "    </tr>\n",
       "    <tr>\n",
       "      <th>202</th>\n",
       "      <td>MONTH</td>\n",
       "      <td>36378</td>\n",
       "      <td>0.000445</td>\n",
       "    </tr>\n",
       "    <tr>\n",
       "      <th>208</th>\n",
       "      <td>MONEY</td>\n",
       "      <td>35740</td>\n",
       "      <td>0.000437</td>\n",
       "    </tr>\n",
       "    <tr>\n",
       "      <th>226</th>\n",
       "      <td>MONTHS</td>\n",
       "      <td>33177</td>\n",
       "      <td>0.000406</td>\n",
       "    </tr>\n",
       "    <tr>\n",
       "      <th>229</th>\n",
       "      <td>MY</td>\n",
       "      <td>32732</td>\n",
       "      <td>0.000400</td>\n",
       "    </tr>\n",
       "    <tr>\n",
       "      <th>246</th>\n",
       "      <td>MONDAY</td>\n",
       "      <td>31233</td>\n",
       "      <td>0.000382</td>\n",
       "    </tr>\n",
       "    <tr>\n",
       "      <th>255</th>\n",
       "      <td>MAJOR</td>\n",
       "      <td>30326</td>\n",
       "      <td>0.000371</td>\n",
       "    </tr>\n",
       "    <tr>\n",
       "      <th>274</th>\n",
       "      <td>MILITARY</td>\n",
       "      <td>28785</td>\n",
       "      <td>0.000352</td>\n",
       "    </tr>\n",
       "    <tr>\n",
       "      <th>286</th>\n",
       "      <td>MEMBERS</td>\n",
       "      <td>27478</td>\n",
       "      <td>0.000336</td>\n",
       "    </tr>\n",
       "    <tr>\n",
       "      <th>355</th>\n",
       "      <td>MIGHT</td>\n",
       "      <td>22370</td>\n",
       "      <td>0.000274</td>\n",
       "    </tr>\n",
       "    <tr>\n",
       "      <th>365</th>\n",
       "      <td>MEETING</td>\n",
       "      <td>21728</td>\n",
       "      <td>0.000266</td>\n",
       "    </tr>\n",
       "    <tr>\n",
       "      <th>369</th>\n",
       "      <td>MUST</td>\n",
       "      <td>21791</td>\n",
       "      <td>0.000267</td>\n",
       "    </tr>\n",
       "    <tr>\n",
       "      <th>373</th>\n",
       "      <td>ME</td>\n",
       "      <td>21551</td>\n",
       "      <td>0.000264</td>\n",
       "    </tr>\n",
       "    <tr>\n",
       "      <th>374</th>\n",
       "      <td>MARCH</td>\n",
       "      <td>21242</td>\n",
       "      <td>0.000260</td>\n",
       "    </tr>\n",
       "    <tr>\n",
       "      <th>384</th>\n",
       "      <td>MAN</td>\n",
       "      <td>20677</td>\n",
       "      <td>0.000253</td>\n",
       "    </tr>\n",
       "    <tr>\n",
       "      <th>402</th>\n",
       "      <td>MS.</td>\n",
       "      <td>19541</td>\n",
       "      <td>0.000239</td>\n",
       "    </tr>\n",
       "    <tr>\n",
       "      <th>403</th>\n",
       "      <td>MINISTER</td>\n",
       "      <td>19605</td>\n",
       "      <td>0.000240</td>\n",
       "    </tr>\n",
       "    <tr>\n",
       "      <th>459</th>\n",
       "      <td>MAKING</td>\n",
       "      <td>17310</td>\n",
       "      <td>0.000212</td>\n",
       "    </tr>\n",
       "    <tr>\n",
       "      <th>472</th>\n",
       "      <td>MOVE</td>\n",
       "      <td>17167</td>\n",
       "      <td>0.000210</td>\n",
       "    </tr>\n",
       "    <tr>\n",
       "      <th>478</th>\n",
       "      <td>MILES</td>\n",
       "      <td>16841</td>\n",
       "      <td>0.000206</td>\n",
       "    </tr>\n",
       "  </tbody>\n",
       "</table>\n",
       "</div>"
      ],
      "text/plain": [
       "         word  unigrams  unigram_probs\n",
       "53    MILLION    169479       0.002073\n",
       "68       MORE    139728       0.001709\n",
       "76        MR.    117873       0.001442\n",
       "120      MOST     64424       0.000788\n",
       "121    MARKET     63807       0.000780\n",
       "125       MAY     59680       0.000730\n",
       "129        M.     57514       0.000703\n",
       "130      MANY     56968       0.000697\n",
       "158      MADE     45777       0.000560\n",
       "177      MUCH     42076       0.000515\n",
       "179      MAKE     42065       0.000514\n",
       "202     MONTH     36378       0.000445\n",
       "208     MONEY     35740       0.000437\n",
       "226    MONTHS     33177       0.000406\n",
       "229        MY     32732       0.000400\n",
       "246    MONDAY     31233       0.000382\n",
       "255     MAJOR     30326       0.000371\n",
       "274  MILITARY     28785       0.000352\n",
       "286   MEMBERS     27478       0.000336\n",
       "355     MIGHT     22370       0.000274\n",
       "365   MEETING     21728       0.000266\n",
       "369      MUST     21791       0.000267\n",
       "373        ME     21551       0.000264\n",
       "374     MARCH     21242       0.000260\n",
       "384       MAN     20677       0.000253\n",
       "402       MS.     19541       0.000239\n",
       "403  MINISTER     19605       0.000240\n",
       "459    MAKING     17310       0.000212\n",
       "472      MOVE     17167       0.000210\n",
       "478     MILES     16841       0.000206"
      ]
     },
     "execution_count": 5,
     "metadata": {},
     "output_type": "execute_result"
    }
   ],
   "source": [
    "df[df['word'].str.startswith('M')]"
   ]
  },
  {
   "cell_type": "markdown",
   "metadata": {},
   "source": [
    "## 4.3 b)"
   ]
  },
  {
   "cell_type": "code",
   "execution_count": 6,
   "metadata": {},
   "outputs": [],
   "source": [
    "with open('hw4_bigram.txt') as f:\n",
    "    bigrams = pd.read_csv(f, sep='\\t', header=None, names=['First', 'Second', 'Count'])"
   ]
  },
  {
   "cell_type": "code",
   "execution_count": 7,
   "metadata": {},
   "outputs": [],
   "source": [
    "# bigrams['bigram_prob'] = bigrams['Count'] / bigrams['Count'].sum()\n",
    "# bigrams['First'].apply(lambda x: x['Count'] / df.iloc[x['First']-1][unigrams])\n",
    "p = []\n",
    "for _, row in bigrams.iterrows():\n",
    "    p.append(row['Count'] / df.iloc[row['First']-1]['unigrams'])\n",
    "bigrams['bigram_prob'] = p"
   ]
  },
  {
   "cell_type": "code",
   "execution_count": 8,
   "metadata": {},
   "outputs": [],
   "source": [
    "index = df[df['word']=='THE'].index[0] + 1"
   ]
  },
  {
   "cell_type": "code",
   "execution_count": 9,
   "metadata": {},
   "outputs": [],
   "source": [
    "the_bigrams = bigrams[bigrams['First']==index]\n",
    "the_bigrams = the_bigrams.sort_values('bigram_prob', ascending=False)\n",
    "the_bigrams = the_bigrams.head(n=10)"
   ]
  },
  {
   "cell_type": "code",
   "execution_count": 10,
   "metadata": {},
   "outputs": [
    {
     "name": "stdout",
     "output_type": "stream",
     "text": [
      "Word: <UNK>, Probablity: 0.6150198100055118\n",
      "Word: U., Probablity: 0.013372499432610317\n",
      "Word: FIRST, Probablity: 0.011720260675031612\n",
      "Word: COMPANY, Probablity: 0.011658788055636611\n",
      "Word: NEW, Probablity: 0.009451480076516552\n",
      "Word: UNITED, Probablity: 0.008672308141231398\n",
      "Word: GOVERNMENT, Probablity: 0.006803488635995202\n",
      "Word: NINETEEN, Probablity: 0.006650714911000876\n",
      "Word: SAME, Probablity: 0.006287066757449016\n",
      "Word: TWO, Probablity: 0.006160749602827221\n"
     ]
    }
   ],
   "source": [
    "for _, row in the_bigrams.iterrows():\n",
    "    word = df.iloc[int(row['Second']) - 1]\n",
    "    print(\"Word: {}, Probablity: {}\".format(word['word'], row['bigram_prob']))"
   ]
  },
  {
   "cell_type": "markdown",
   "metadata": {},
   "source": [
    "## 4.3 c)"
   ]
  },
  {
   "cell_type": "code",
   "execution_count": 19,
   "metadata": {},
   "outputs": [],
   "source": [
    "import numpy as np\n",
    "def lookup_word(word):\n",
    "    return df.loc[df['word'] == word].index[0] + 1\n",
    "\n",
    "def compute_mle_uni(text):\n",
    "    text = text.upper().split()\n",
    "    p = df[df['word'].isin(text)]['unigram_probs'].product()\n",
    "    return np.log(p)\n",
    "\n",
    "def compute_mle_bi(text):\n",
    "    text = text.upper().split()\n",
    "    text.insert(0, \"<s>\")\n",
    "    P = 1\n",
    "    for i in range(len(text) - 1):\n",
    "        first_index = lookup_word(text[i])\n",
    "        second_index = lookup_word(text[i+1])\n",
    "        p = bigrams[(bigrams['First']==first_index) & (bigrams['Second']==second_index)]['bigram_prob']\n",
    "        if p.empty:\n",
    "            print(\"Not found: {} {}\".format(text[i], text[i+1]))\n",
    "            p = 0\n",
    "        else:\n",
    "            p = float(p)\n",
    "        P *= p\n",
    "    return np.log(P)\n",
    "\n"
   ]
  },
  {
   "cell_type": "code",
   "execution_count": 20,
   "metadata": {},
   "outputs": [
    {
     "name": "stdout",
     "output_type": "stream",
     "text": [
      "The stock market fell by one hundred points last week\n",
      "MLE Unigram: -64.50944034364878\n",
      "MLE Bigram: -40.91813213378977\n"
     ]
    }
   ],
   "source": [
    "sentence = \"The stock market fell by one hundred points last week\"\n",
    "print(sentence)\n",
    "result = compute_mle_uni(sentence)\n",
    "print(\"MLE Unigram: {}\".format(result))\n",
    "result = compute_mle_bi(\"The stock market fell by one hundred points last week\")\n",
    "print(\"MLE Bigram: {}\".format(result))"
   ]
  },
  {
   "cell_type": "markdown",
   "metadata": {},
   "source": [
    "Bigram model yields a higher log likelihood."
   ]
  },
  {
   "cell_type": "markdown",
   "metadata": {},
   "source": [
    "## 4.3 d)"
   ]
  },
  {
   "cell_type": "code",
   "execution_count": 21,
   "metadata": {},
   "outputs": [
    {
     "name": "stdout",
     "output_type": "stream",
     "text": [
      "The sixteen officials sold fire insurance\n",
      "MLE Unigram: -44.291934473132606\n",
      "Not found: SIXTEEN OFFICIALS\n",
      "Not found: SOLD FIRE\n",
      "MLE Bigram: -inf\n"
     ]
    }
   ],
   "source": [
    "sentence = \"The sixteen officials sold fire insurance\"\n",
    "print(sentence)\n",
    "result = compute_mle_uni(sentence)\n",
    "print(\"MLE Unigram: {}\".format(result))\n",
    "result = compute_mle_bi(\"The sixteen officials sold fire insurance\")\n",
    "print(\"MLE Bigram: {}\".format(result))"
   ]
  },
  {
   "cell_type": "markdown",
   "metadata": {},
   "source": [
    "SIXTEEN OFFICIALS and SOLD FIRE were not found in bigram corpus. The log-likelihood of the sentence is negative infinity since we never encountered the two bigrams in our corpus and assume they never occur together."
   ]
  },
  {
   "cell_type": "markdown",
   "metadata": {},
   "source": [
    "## 4.3 e)"
   ]
  },
  {
   "cell_type": "code",
   "execution_count": 22,
   "metadata": {
    "collapsed": true
   },
   "outputs": [],
   "source": [
    "def compute_mle_mixture(text, lam):\n",
    "    text = text.upper().split()\n",
    "    text.insert(0, \"<s>\")\n",
    "    p = 1\n",
    "    for i in range(len(text) - 1):\n",
    "        p_uni = float(df[df['word'] == text[i+1]]['unigram_probs'])\n",
    "        first_index = lookup_word(text[i])\n",
    "        second_index = lookup_word(text[i+1])\n",
    "        p_bi = bigrams[(bigrams['First']==first_index) & (bigrams['Second']==second_index)]['bigram_prob']\n",
    "        if p_bi.empty:\n",
    "            p_bi = 0\n",
    "        else:\n",
    "            p_bi = float(p_bi)\n",
    "        p *= lam * p_uni + (1-lam) * p_bi\n",
    "    return np.log(p)"
   ]
  },
  {
   "cell_type": "code",
   "execution_count": 24,
   "metadata": {},
   "outputs": [
    {
     "data": {
      "text/plain": [
       "[<matplotlib.lines.Line2D at 0x115fdb400>]"
      ]
     },
     "execution_count": 24,
     "metadata": {},
     "output_type": "execute_result"
    },
    {
     "data": {
      "image/png": "[encoded data removed]",
      "text/plain": [
       "<matplotlib.figure.Figure at 0x111ea5ac8>"
      ]
     },
     "metadata": {},
     "output_type": "display_data"
    }
   ],
   "source": [
    "%matplotlib inline\n",
    "import matplotlib.pyplot as plt\n",
    "x = []\n",
    "y = []\n",
    "for i in np.linspace(0, 1, 101):\n",
    "    x.append(i)\n",
    "    y.append(compute_mle_mixture(\"The sixteen officials sold fire insurance\", i))\n",
    "plt.plot(x, y, 'r-')"
   ]
  },
  {
   "cell_type": "code",
   "execution_count": 26,
   "metadata": {},
   "outputs": [
    {
     "name": "stdout",
     "output_type": "stream",
     "text": [
      "Max log-likelihood: -42.96416428296298\n",
      "Lambda for max log-likelihood: 0.65\n"
     ]
    }
   ],
   "source": [
    "print(\"Max log-likelihood: {}\".format(max(y)))\n",
    "index = y.index(max(y))\n",
    "max_index = x[index]\n",
    "print(\"Lambda for max log-likelihood: {}\".format(max_index))"
   ]
  },
  {
   "cell_type": "markdown",
   "metadata": {},
   "source": [
    "# 4.4"
   ]
  },
  {
   "cell_type": "code",
   "execution_count": 27,
   "metadata": {
    "collapsed": true
   },
   "outputs": [],
   "source": [
    "nasdaq2k = []\n",
    "with open('hw4_nasdaq00.txt') as f:\n",
    "    for line in f.readlines():\n",
    "        nasdaq2k.append(float(line))"
   ]
  },
  {
   "cell_type": "code",
   "execution_count": 28,
   "metadata": {},
   "outputs": [],
   "source": [
    "nasdaq2k = np.array(nasdaq2k)"
   ]
  },
  {
   "cell_type": "code",
   "execution_count": 29,
   "metadata": {},
   "outputs": [],
   "source": [
    "y = nasdaq2k[3:].reshape(-1, 1)\n",
    "X = np.column_stack([nasdaq2k[2:-1], nasdaq2k[1:-2], nasdaq2k[:-3]])"
   ]
  },
  {
   "cell_type": "code",
   "execution_count": 33,
   "metadata": {},
   "outputs": [
    {
     "name": "stdout",
     "output_type": "stream",
     "text": [
      "[a1, a2, a3]= [[ 0.95067337]\n",
      " [ 0.01560133]\n",
      " [ 0.03189569]]\n"
     ]
    }
   ],
   "source": [
    "X = np.matrix(X)\n",
    "y = np.matrix(y)\n",
    "theta = np.linalg.inv(X.T * X) * X.T * y\n",
    "print(\"[a1, a2, a3]= {}\".format(theta))"
   ]
  },
  {
   "cell_type": "code",
   "execution_count": 34,
   "metadata": {},
   "outputs": [
    {
     "name": "stdout",
     "output_type": "stream",
     "text": [
      "MSE for year 2000: 13902.401076367885\n"
     ]
    }
   ],
   "source": [
    "mean_squared_error = np.sum(np.square(X.dot(theta) - y)) / len(y)\n",
    "mse = np.sum(np.square(X.dot(theta) - y)) / len(y)\n",
    "print(\"MSE for year 2000: {}\".format(mse))"
   ]
  },
  {
   "cell_type": "code",
   "execution_count": 35,
   "metadata": {},
   "outputs": [],
   "source": [
    "nasdaq2k1 = []\n",
    "with open('hw4_nasdaq01.txt') as f:\n",
    "    for line in f.readlines():\n",
    "        nasdaq2k1.append(float(line))"
   ]
  },
  {
   "cell_type": "code",
   "execution_count": 37,
   "metadata": {
    "collapsed": true
   },
   "outputs": [],
   "source": [
    "nasdaq2k1 = np.array(nasdaq2k1)\n",
    "y = nasdaq2k1[3:].reshape(-1, 1)\n",
    "X = np.column_stack([nasdaq2k1[2:-1], nasdaq2k1[1:-2], nasdaq2k1[:-3]])\n",
    "X = np.matrix(X)\n",
    "y = np.matrix(y)\n",
    "mean_squared_error_2001 = np.sum(np.square(X.dot(theta) - y)) / len(y)"
   ]
  },
  {
   "cell_type": "code",
   "execution_count": 38,
   "metadata": {},
   "outputs": [
    {
     "name": "stdout",
     "output_type": "stream",
     "text": [
      "MSE for year 2001: 2985.0979241115374\n"
     ]
    }
   ],
   "source": [
    "print(\"MSE for year 2001: {}\".format(mean_squared_error_2001))"
   ]
  },
  {
   "cell_type": "markdown",
   "metadata": {
    "collapsed": true
   },
   "source": [
    "I would not recommend this linear model for stock market prediction because of it's high mean squared error on the training set, which implies that it was not able to fit the training data well."
   ]
  },
  {
   "cell_type": "code",
   "execution_count": null,
   "metadata": {
    "collapsed": true
   },
   "outputs": [],
   "source": []
  }
 ],
 "metadata": {
  "anaconda-cloud": {},
  "kernelspec": {
   "display_name": "Python 3",
   "language": "python",
   "name": "python3"
  },
  "language_info": {
   "codemirror_mode": {
    "name": "ipython",
    "version": 3
   },
   "file_extension": ".py",
   "mimetype": "text/x-python",
   "name": "python",
   "nbconvert_exporter": "python",
   "pygments_lexer": "ipython3",
   "version": "3.6.2"
  }
 },
 "nbformat": 4,
 "nbformat_minor": 1
}

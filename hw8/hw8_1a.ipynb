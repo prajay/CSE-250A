{
 "cells": [
  {
   "cell_type": "code",
   "execution_count": 1,
   "metadata": {
    "collapsed": true
   },
   "outputs": [],
   "source": [
    "import numpy as np\n",
    "import pprint"
   ]
  },
  {
   "cell_type": "markdown",
   "metadata": {},
   "source": [
    "### 8.1 a"
   ]
  },
  {
   "cell_type": "code",
   "execution_count": 2,
   "metadata": {
    "collapsed": true
   },
   "outputs": [],
   "source": [
    "def readTitles():\n",
    "    return [line.rstrip() for line in open(\"hw8_movieTitles.txt\").readlines()]\n",
    "\n",
    "def readPIDs():\n",
    "    return [line.rstrip() for line in open(\"hw8_studentPIDs.txt\").readlines()]\n",
    "\n",
    "def readRatings():\n",
    "    return [[int(x) if x != '?' else -1 for x in line.rstrip().split(\" \")] \n",
    "            for line in open(\"hw8_ratings.txt\").readlines()]\n",
    "\n",
    "def orderByPopularity():\n",
    "    meanratingofmovies = [[el for el in x if el != -1] for x in zip(*ratings)]\n",
    "    meanratingofmovies = [sum(x)/len(x) for x in meanratingofmovies]\n",
    "    \n",
    "    movieswithrating = [[movie, rating] for (movie, rating) \n",
    "                        in zip(movies, meanratingofmovies)]\n",
    "    movieswithrating.sort(key=lambda x: x[1])\n",
    "    return movieswithrating\n",
    "\n",
    "movies = readTitles()\n",
    "students = readPIDs()\n",
    "ratings = readRatings()\n",
    "movieratings = orderByPopularity()"
   ]
  },
  {
   "cell_type": "code",
   "execution_count": 3,
   "metadata": {},
   "outputs": [
    {
     "name": "stdout",
     "output_type": "stream",
     "text": [
      "[['Fifty_Shades_of_Grey', 0.33093525179856115],\n",
      " ['The_Last_Airbender', 0.35714285714285715],\n",
      " ['Magic_Mike', 0.5245901639344263],\n",
      " ['Prometheus', 0.5436893203883495],\n",
      " ['Bridemaids', 0.5555555555555556],\n",
      " ['World_War_Z', 0.59],\n",
      " ['Man_of_Steel', 0.5915492957746479],\n",
      " ['Mad_Max:_Fury_Road', 0.6333333333333333],\n",
      " ['Drive', 0.6363636363636364],\n",
      " ['Thor', 0.6646341463414634],\n",
      " ['Pitch_Perfect', 0.6666666666666666],\n",
      " ['The_Hunger_Games', 0.6712962962962963],\n",
      " ['Fast_Five', 0.6783216783216783],\n",
      " ['The_Hateful_Eight', 0.6825396825396826],\n",
      " ['Iron_Man_2', 0.6923076923076923],\n",
      " ['The_Perks_of_Being_a_Wallflower', 0.6951219512195121],\n",
      " ['American_Hustle', 0.7159090909090909],\n",
      " ['The_Help', 0.725],\n",
      " ['Avengers:_Age_of_Ultron', 0.7298850574712644],\n",
      " ['21_Jump_Street', 0.7358490566037735],\n",
      " ['Captain_America:_The_First_Avenger', 0.7360406091370558],\n",
      " ['Les_Miserables', 0.7452830188679245],\n",
      " ['Star_Wars:_The_Force_Awakens', 0.7485714285714286],\n",
      " ['Jurassic_World', 0.7540106951871658],\n",
      " ['The_Great_Gatsby', 0.7548387096774194],\n",
      " ['X-Men:_First_Class', 0.7637362637362637],\n",
      " ['The_Revenant', 0.7669902912621359],\n",
      " ['Her', 0.7790697674418605],\n",
      " ['Ex_Machina', 0.7857142857142857],\n",
      " ['Room', 0.7857142857142857],\n",
      " ['Django_Unchained', 0.7890625],\n",
      " ['The_Girls_with_the_Dragon_Tattoo', 0.7894736842105263],\n",
      " ['Frozen', 0.7900552486187845],\n",
      " ['Midnight_in_Paris', 0.797752808988764],\n",
      " ['The_Avengers', 0.8009049773755657],\n",
      " ['Wolf_of_Wall_Street', 0.8041237113402062],\n",
      " ['Harry_Potter_and_the_Deathly_Hallows:_Part_1', 0.8041666666666667],\n",
      " ['Black_Swan', 0.8099173553719008],\n",
      " ['Toy_Story_3', 0.8103448275862069],\n",
      " ['Harry_Potter_and_the_Deathly_Hallows:_Part_2', 0.8318965517241379],\n",
      " ['Gone_Girl', 0.8394160583941606],\n",
      " ['The_Theory_of_Everything', 0.8407079646017699],\n",
      " ['12_Years_a_Slave', 0.8409090909090909],\n",
      " ['Now_You_See_Me', 0.8606060606060606],\n",
      " ['The_Social_Network', 0.8941176470588236],\n",
      " ['The_Martian', 0.9014084507042254],\n",
      " ['Shutter_Island', 0.9078014184397163],\n",
      " ['Interstellar', 0.9144144144144144],\n",
      " ['The_Dark_Knight_Rises', 0.9255813953488372],\n",
      " ['Inception', 0.9959349593495935]]\n"
     ]
    }
   ],
   "source": [
    "pprint.pprint(movieratings)"
   ]
  },
  {
   "cell_type": "markdown",
   "metadata": {},
   "source": [
    "### 8.1 e"
   ]
  },
  {
   "cell_type": "code",
   "execution_count": 4,
   "metadata": {},
   "outputs": [
    {
     "name": "stdout",
     "output_type": "stream",
     "text": [
      "Log Likelihood at Iteration 0: -23.68194303920655\n",
      "Log Likelihood at Iteration 1: -14.342138732059835\n",
      "Log Likelihood at Iteration 2: -12.909592229693583\n",
      "Log Likelihood at Iteration 4: -12.150619817940063\n",
      "Log Likelihood at Iteration 8: -11.867860888836633\n",
      "Log Likelihood at Iteration 16: -11.682204313006864\n",
      "Log Likelihood at Iteration 32: -11.565450274671571\n",
      "Log Likelihood at Iteration 64: -11.540129139078093\n"
     ]
    }
   ],
   "source": [
    "def initz():\n",
    "    return [float(line.rstrip()) for line \n",
    "            in open(\"hw8_probZ_init.txt\").readlines()]\n",
    "        \n",
    "def initrgivenz():\n",
    "    return [[float(el) for el in line.rstrip().split()] \n",
    "            for line in open(\"hw8_probRgivenZ_init.txt\").readlines()]\n",
    "\n",
    "z = initz()\n",
    "rgivenz = initrgivenz()\n",
    "#pprint.pprint(rgivenz)\n",
    "#pprint.pprint(ratings[0])\n",
    "#print(z)\n",
    "def Estep(z, rgivenz, ratings):\n",
    "    rho = []*len(ratings)\n",
    "    for t in range(len(ratings)):\n",
    "        rho.append([1]*len(z))\n",
    "        \n",
    "    for t in range(len(ratings)):\n",
    "        den = 0\n",
    "        for i in range(len(z)):\n",
    "            rho[t][i] *= z[i]\n",
    "            for j in range(len(rgivenz)):\n",
    "                if ratings[t][j] == 1:\n",
    "                    rho[t][i] *= rgivenz[j][i]\n",
    "                elif ratings[t][j] == 0:\n",
    "                    rho[t][i] *= (1 - rgivenz[j][i])\n",
    "\n",
    "            den += rho[t][i]\n",
    "\n",
    "        for i in range(len(z)):\n",
    "            rho[t][i] /= den\n",
    "\n",
    "    return rho\n",
    "\n",
    "def Mstep(z, rgivenz, ratings, rho):\n",
    "    samplecount = len(ratings)\n",
    "    newz = [0]*len(z)\n",
    "    newrgivenz = []*len(rgivenz)\n",
    "    for j in range(len(rgivenz)):\n",
    "        newrgivenz.append([0]*len(z))\n",
    "    \n",
    "    for i in range(len(z)):\n",
    "        newz[i] = sum([x[i] for x in rho])/samplecount\n",
    "            \n",
    "    for t in range(samplecount):\n",
    "        for i in range(len(z)):\n",
    "            for j in range(len(rgivenz)):\n",
    "                if ratings[t][j] != -1:\n",
    "                    if ratings[t][j] == 1:\n",
    "                        newrgivenz[j][i] += rho[t][i]\n",
    "                else:\n",
    "                    newrgivenz[j][i] += rho[t][i] * rgivenz[j][i]\n",
    "        \n",
    "    for j in range(len(rgivenz)):\n",
    "        for i in range(len(z)):\n",
    "            newrgivenz[j][i] /= sum([x[i] for x in rho])\n",
    "            \n",
    "#     print(newz)\n",
    "#     print(newrgivenz)\n",
    "    return (newz, newrgivenz)\n",
    "    \n",
    "\n",
    "def likelihood(z, rgivenz, ratings):\n",
    "    samplecount = len(ratings)\n",
    "    ll = 0\n",
    "    for t in range(len(ratings)):\n",
    "        val = 0\n",
    "        for i in range(len(z)):\n",
    "            prob = 1\n",
    "            for j in range(len(rgivenz)):\n",
    "                if ratings[t][j] != -1:\n",
    "                    if ratings[t][j] == 1:\n",
    "                        prob *= rgivenz[j][i]\n",
    "                    else:\n",
    "                        prob *= (1 - rgivenz[j][i])                       \n",
    "\n",
    "            val += prob*z[i]\n",
    "        ll += np.log(val)/samplecount\n",
    "    return ll\n",
    "                    \n",
    "            \n",
    "def EM(iters, z, rgivenz, ratings):\n",
    "    for i in range(iters):\n",
    "        ll = likelihood(z, rgivenz, ratings)\n",
    "        if i in [0,1,2,4,8,16,32,64]:\n",
    "            print(\"Log Likelihood at Iteration {}: {}\"\n",
    "                  .format(i, likelihood(z, rgivenz, ratings)))\n",
    "        rho = Estep(z, rgivenz, ratings)\n",
    "#         pprint.pprint(rho)\n",
    "        z, rgivenz = Mstep(z, rgivenz, ratings, rho)\n",
    "    print(\"Log Likelihood at Iteration {}: {}\"\n",
    "          .format(i+1, likelihood(z, rgivenz, ratings)))\n",
    "    return (rho, z, rgivenz)\n",
    "\n",
    "rho, z, rgivenz = EM(64, z, rgivenz, ratings)"
   ]
  },
  {
   "cell_type": "markdown",
   "metadata": {},
   "source": [
    "### 8.1 f"
   ]
  },
  {
   "cell_type": "code",
   "execution_count": 7,
   "metadata": {},
   "outputs": [
    {
     "data": {
      "text/plain": [
       "['The_Dark_Knight_Rises',\n",
       " 'Gone_Girl',\n",
       " 'The_Social_Network',\n",
       " 'The_Revenant',\n",
       " '12_Years_a_Slave',\n",
       " 'The_Theory_of_Everything',\n",
       " 'Les_Miserables',\n",
       " '21_Jump_Street',\n",
       " 'Django_Unchained',\n",
       " 'Captain_America:_The_First_Avenger',\n",
       " 'Avengers:_Age_of_Ultron',\n",
       " 'Pitch_Perfect',\n",
       " 'Ex_Machina',\n",
       " 'The_Help',\n",
       " 'The_Great_Gatsby',\n",
       " 'Star_Wars:_The_Force_Awakens',\n",
       " 'The_Girls_with_the_Dragon_Tattoo',\n",
       " 'Wolf_of_Wall_Street',\n",
       " 'Room',\n",
       " 'Her',\n",
       " 'Midnight_in_Paris',\n",
       " 'The_Hateful_Eight',\n",
       " 'Mad_Max:_Fury_Road',\n",
       " 'Fast_Five',\n",
       " 'The_Perks_of_Being_a_Wallflower',\n",
       " 'American_Hustle',\n",
       " 'World_War_Z',\n",
       " 'Bridemaids',\n",
       " 'Man_of_Steel',\n",
       " 'Magic_Mike',\n",
       " 'Drive',\n",
       " 'The_Last_Airbender',\n",
       " 'Fifty_Shades_of_Grey']"
      ]
     },
     "execution_count": 7,
     "metadata": {},
     "output_type": "execute_result"
    }
   ],
   "source": [
    "myratings = ratings[students.index(\"A53247488\")]\n",
    "myratingindex = students.index(\"A53247488\")\n",
    "expected_ratings = [0]*len(myratings)\n",
    "for j in range(len(myratings)):\n",
    "    for i in range(len(z)):\n",
    "        if myratings[j] == -1:\n",
    "            expected_ratings[j] += rho[myratingindex][i] * rgivenz[j][i]\n",
    "            \n",
    "suggested_movies = [[i,val] for i,val \n",
    "                    in enumerate(expected_ratings) if val > 0]\n",
    "suggested_movies.sort(key=lambda x: x[1], reverse=True)\n",
    "[movies[i] for i, val in suggested_movies]"
   ]
  }
 ],
 "metadata": {
  "kernelspec": {
   "display_name": "Python 3",
   "language": "python",
   "name": "python3"
  },
  "language_info": {
   "codemirror_mode": {
    "name": "ipython",
    "version": 3
   },
   "file_extension": ".py",
   "mimetype": "text/x-python",
   "name": "python",
   "nbconvert_exporter": "python",
   "pygments_lexer": "ipython3",
   "version": "3.6.3"
  }
 },
 "nbformat": 4,
 "nbformat_minor": 2
}

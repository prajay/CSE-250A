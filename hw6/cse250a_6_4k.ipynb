{
 "cells": [
  {
   "cell_type": "code",
   "execution_count": 1,
   "metadata": {
    "collapsed": true
   },
   "outputs": [],
   "source": [
    "import numpy as np\n",
    "import matplotlib.pyplot as plt"
   ]
  },
  {
   "cell_type": "code",
   "execution_count": 2,
   "metadata": {
    "collapsed": true
   },
   "outputs": [],
   "source": [
    "def Rprime(y):\n",
    "    s = y\n",
    "    for i in range(1,11):\n",
    "        s -= (1/10)*np.tanh(y + (2/(i**(1/2))))\n",
    "    return s\n",
    "    \n",
    "def g(x):\n",
    "    s = 0\n",
    "    for i in range(1,11):\n",
    "        s += (1/10)*np.log(np.cosh(x + (2/(i**(1/2)))))\n",
    "    return s\n",
    "\n",
    "def findminima(x):\n",
    "    arr = []\n",
    "    curval = g(x)\n",
    "    arr.append(x)\n",
    "    print(\"g(x) at x={}: {}\".format(x, curval))\n",
    "    x = Rprime(x)\n",
    "    newval = g(x)\n",
    "    arr.append(x)\n",
    "    print(\"g(x) at x={}: {}\".format(x, curval))\n",
    "    while newval != curval:\n",
    "        curval = newval\n",
    "        x = Rprime(x)\n",
    "        newval = g(x)\n",
    "        arr.append(x)\n",
    "        print(\"g(x) at x={}: {}\".format(x, curval))\n",
    "        \n",
    "    return arr"
   ]
  },
  {
   "cell_type": "code",
   "execution_count": 3,
   "metadata": {},
   "outputs": [
    {
     "name": "stdout",
     "output_type": "stream",
     "text": [
      "g(x) at x=-2: 0.47618594426352157\n",
      "g(x) at x=-1.2937208509593077: 0.47618594426352157\n",
      "g(x) at x=-1.0264413923109703: 0.11683722700555377\n",
      "g(x) at x=-0.9854261170992632: 0.07516304695191271\n",
      "g(x) at x=-0.980608312943747: 0.07422242850058419\n",
      "g(x) at x=-0.9800544347852711: 0.07420948780476862\n",
      "g(x) at x=-0.9799908902699312: 0.07420931681507727\n",
      "g(x) at x=-0.979983601722224: 0.0742093145645491\n",
      "g(x) at x=-0.9799827657489574: 0.07420931453494116\n",
      "g(x) at x=-0.9799826698657716: 0.0742093145345516\n",
      "g(x) at x=-0.9799826588683126: 0.07420931453454649\n",
      "g(x) at x=-0.9799826576069431: 0.07420931453454643\n",
      "g(x) at x=-0.9799826574622682: 0.07420931453454642\n",
      "g(x) at x=-0.9799826574456747: 0.0742093145345464\n",
      "g(x) at x=-0.9799826574437717: 0.07420931453454643\n",
      "g(x) at x=-0.9799826574435533: 0.07420931453454645\n"
     ]
    },
    {
     "data": {
      "image/png": "[encoded data removed]",
      "text/plain": [
       "<matplotlib.figure.Figure at 0x7ff8a35d9400>"
      ]
     },
     "metadata": {},
     "output_type": "display_data"
    }
   ],
   "source": [
    "arr = findminima(-2)\n",
    "plt.plot(arr, 'go-')\n",
    "plt.xlabel(\"Iterations\")\n",
    "plt.ylabel(\"Xn\")\n",
    "plt.show()"
   ]
  },
  {
   "cell_type": "code",
   "execution_count": 4,
   "metadata": {},
   "outputs": [
    {
     "name": "stdout",
     "output_type": "stream",
     "text": [
      "g(x) at x=3: 3.311469724827221\n",
      "g(x) at x=2.0008344331092: 3.311469724827221\n",
      "g(x) at x=1.0069694027464569: 2.314960218561806\n",
      "g(x) at x=0.05069375818031513: 1.3401876427531967\n",
      "g(x) at x=-0.6930319089218286: 0.5011522878515562\n",
      "g(x) at x=-0.9452169255853637: 0.1106103313383695\n",
      "g(x) at x=-0.9760377756588059: 0.07474484949145624\n",
      "g(x) at x=-0.9795308493305126: 0.07421620398923405\n",
      "g(x) at x=-0.979930845426046: 0.07420940489462816\n",
      "g(x) at x=-0.979976714905606: 0.07420931572284059\n",
      "g(x) at x=-0.979981975857169: 0.07420931455017814\n",
      "g(x) at x=-0.9799825792680246: 0.07420931453475207\n",
      "g(x) at x=-0.9799826484770746: 0.07420931453454913\n",
      "g(x) at x=-0.9799826564151055: 0.07420931453454642\n"
     ]
    },
    {
     "data": {
      "image/png": "[encoded data removed]",
      "text/plain": [
       "<matplotlib.figure.Figure at 0x7ff8c05bdbe0>"
      ]
     },
     "metadata": {},
     "output_type": "display_data"
    }
   ],
   "source": [
    "arr = findminima(3)\n",
    "plt.plot(arr, 'go-')\n",
    "plt.xlabel(\"Iterations\")\n",
    "plt.ylabel(\"Xn\")\n",
    "plt.show()"
   ]
  }
 ],
 "metadata": {
  "kernelspec": {
   "display_name": "Python 3",
   "language": "python",
   "name": "python3"
  },
  "language_info": {
   "codemirror_mode": {
    "name": "ipython",
    "version": 3
   },
   "file_extension": ".py",
   "mimetype": "text/x-python",
   "name": "python",
   "nbconvert_exporter": "python",
   "pygments_lexer": "ipython3",
   "version": "3.6.2"
  }
 },
 "nbformat": 4,
 "nbformat_minor": 2
}
